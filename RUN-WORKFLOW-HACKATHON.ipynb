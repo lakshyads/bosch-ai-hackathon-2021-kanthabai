{
  "nbformat": 4,
  "nbformat_minor": 0,
  "metadata": {
    "orig_nbformat": 4,
    "colab": {
      "name": "RUN-WORKFLOW-HACKATHON.ipynb",
      "provenance": []
    },
    "language_info": {
      "name": "python"
    },
    "kernelspec": {
      "name": "python3",
      "display_name": "Python 3"
    }
  },
  "cells": [
    {
      "cell_type": "markdown",
      "metadata": {
        "id": "-5RIJ50R7npa"
      },
      "source": [
        "---\n",
        "---\n",
        "# BOSCH AI HACKATHON 2021\n",
        "---\n",
        "## Team - KanthabAI\n",
        "\n",
        "Members:\n",
        "  - Sanjana  \n",
        "  - Lakshya  \n",
        "  - Abeesh  \n",
        "  - Sachin  \n",
        "  - Shubham\n",
        "  \n",
        "~ Code, data and scripts maintained by Lakshya Dev at https://github.com/lakshyads/bosch-ai-hackathon-2021-kanthabai\n",
        "\n",
        "  \n",
        "---\n",
        "**Content:**  \n",
        "\n",
        "1. Initial Config   \n",
        "2. Prep the environment and data   \n",
        "3. ***Detecting new Images***   \n",
        "4. Training the Yolov5 model   \n",
        "5. Running inferences on training data   \n",
        "6. Test with test data   \n",
        "7. Retraining from last checkpoint   \n",
        "---\n",
        "---"
      ]
    },
    {
      "cell_type": "markdown",
      "metadata": {
        "id": "h3poeQTv7npf"
      },
      "source": [
        "## Initial Configurations"
      ]
    },
    {
      "cell_type": "code",
      "metadata": {
        "id": "SKHNV_Lp7npg",
        "outputId": "483d78dd-4812-4b39-ff9e-9ede9f476e25",
        "colab": {
          "base_uri": "https://localhost:8080/",
          "height": 131
        }
      },
      "source": [
        "available_models = {\n",
        "    1: \"yolov5s\",\n",
        "    2: \"yolov5m\",\n",
        "    3: \"yolov5l\",\n",
        "    4: \"yolov5x\",\n",
        "    5: \"yolov5s6\",\n",
        "    6: \"yolov5m6\",\n",
        "    7: \"yolov5l6\",\n",
        "    8: \"yolov5x6\"\n",
        "}\n",
        "\n",
        "selected_model = available_models[3] # Edit this index to change the selected model variant of Yolov5\n",
        "weights_path = ''\n",
        "epochs = 350\n",
        "batch_size = 64\n",
        "image_size = 640\n",
        "# Github pull repo and branch\n",
        "git_branch = 'yolo-l6-scratch'\n",
        "git_token = input('Enter github access token to commit/push your training/test/validation runs back to the selected branch. Leave blank to omit : ')\n",
        "\n",
        "# Detecting on new images (set archive path if archived folder else set images path)\n",
        "detect_images_archive_path = ''\n",
        "detect_images_path = ''\n",
        "\n",
        "# Testing Or Detecting on images - set to 'latest' to use last trained weights or set custom path\n",
        "weights_path_for_testing_or_detecting = 'latest'\n"
      ],
      "execution_count": 1,
      "outputs": [
        {
          "output_type": "error",
          "ename": "SyntaxError",
          "evalue": "ignored",
          "traceback": [
            "\u001b[0;36m  File \u001b[0;32m\"<ipython-input-1-6c6009685432>\"\u001b[0;36m, line \u001b[0;32m22\u001b[0m\n\u001b[0;31m    detect_images_archive_path =\u001b[0m\n\u001b[0m                                 ^\u001b[0m\n\u001b[0;31mSyntaxError\u001b[0m\u001b[0;31m:\u001b[0m invalid syntax\n"
          ]
        }
      ]
    },
    {
      "cell_type": "markdown",
      "metadata": {
        "id": "fv5nNmlO7npj"
      },
      "source": [
        "---\n",
        "# 1. PREP THE ENVIRONMENT AND DATA\n",
        "---"
      ]
    },
    {
      "cell_type": "markdown",
      "metadata": {
        "id": "29VlrNfP7npl"
      },
      "source": [
        "### Setup Git & LFS for downloading repo & dataset & ready the model/env"
      ]
    },
    {
      "cell_type": "code",
      "metadata": {
        "id": "dL-O83ak7npl"
      },
      "source": [
        "# Setup\n",
        "!curl -s https://packagecloud.io/install/repositories/github/git-lfs/script.deb.sh | sudo bash\n",
        "!sudo apt-get install git-lfs\n",
        "!git config --global user.email \"lakshyadev@live.com\"\n",
        "!git config --global user.name \"Lakshya from google colab\"\n",
        "\n",
        "# Clone repo\n",
        "!git clone https://github.com/lakshyads/bosch-ai-hackathon-2021-kanthabai.git yolov5\n",
        "%cd /content/yolov5/\n",
        "!git pull\n",
        "!git checkout $git_branch\n",
        "\n",
        "# Install dependencies and give max permissions\n",
        "!pip install -r requirements.txt\n",
        "%cd /content/yolov5/\n",
        "!chmod -R 755 /content/yolov5\n",
        "# Download pretrained weights\n",
        "!/content/yolov5/weights/download_weights.sh"
      ],
      "execution_count": null,
      "outputs": []
    },
    {
      "cell_type": "markdown",
      "metadata": {
        "id": "aug4MglH7npm"
      },
      "source": [
        "---\n",
        "# 2. DETECTING ON NEW IMAGES\n",
        "---"
      ]
    },
    {
      "cell_type": "markdown",
      "metadata": {
        "id": "0AWUxpzr7npn"
      },
      "source": [
        "### Extract new images from zipped upload"
      ]
    },
    {
      "cell_type": "code",
      "metadata": {
        "id": "qmWRPtVT7npn"
      },
      "source": [
        "%cd ..\n",
        "!unzip -q $detect_images_archive_path ./detection_images\n",
        "%cd yolov5"
      ],
      "execution_count": null,
      "outputs": []
    },
    {
      "cell_type": "markdown",
      "metadata": {
        "id": "5BlVkrDi7npo"
      },
      "source": [
        "### Runs the detect script.\n",
        "### Update --weights with required weights path"
      ]
    },
    {
      "cell_type": "code",
      "metadata": {
        "id": "_qgoaGmW7npp"
      },
      "source": [
        "use_weights = ''\n",
        "if (weights_for_testing_path == 'latest'):\n",
        "  from utils.plots import plot_results\n",
        "  import os\n",
        "  # find the latest run\n",
        "  _, dir_names, _ = next(os.walk('runs/train'))\n",
        "  dir_names.sort()\n",
        "  latest = os.path.join(dirPath, dir_names[-1]) # eg: 'runs/train/exp3'\n",
        "  _, _, latest_run_weights = next(os.walk('latest/weights'))\n",
        "  if ('best.pt' not in set(latest_run_weights)):\n",
        "      use_weights = f'{latest}/weights/last.pt'\n",
        "  else:\n",
        "        use_weights = f'{latest}/weights/best.pt'\n",
        "else:\n",
        "  use_weights = weights_path_for_testing_or_detecting\n",
        "\n",
        "##########################################################\n",
        "!python detect.py --source $detect_images_path --weights $use_weights --img $image_size --save-txt --save-conf\n"
      ],
      "execution_count": null,
      "outputs": []
    },
    {
      "cell_type": "markdown",
      "metadata": {
        "id": "e1CF-0n77npq"
      },
      "source": [
        "---\n",
        "# 3. TRAINING THE YOLO-V5 MODEL\n",
        "---"
      ]
    },
    {
      "cell_type": "markdown",
      "metadata": {
        "id": "h_HC3HT97npq"
      },
      "source": [
        "### Ready the data set included in the above repo \n",
        "#### (Extract and create train & val sets. Set 'make_test_set' to True below to create test set also.)"
      ]
    },
    {
      "cell_type": "code",
      "metadata": {
        "id": "RxPTxwd27npr"
      },
      "source": [
        "\n",
        "# Set to True to create test set\n",
        "make_test_set = False\n",
        "\n",
        "# =================================================\n",
        "%cd /content/yolov5/\n",
        "# Unzip dataset\n",
        "!unzip -q ./data/final-data-full.zip -d /content/yolov5/data/dataset/\n",
        "# =================================================\n",
        "\n",
        "if(make_test_set is False):\n",
        "  #split dataset without test set\n",
        "  !python /content/yolov5/data-utils/split_train_val_test.py --images /content/yolov5/data/dataset --labels /content/yolov5/data/dataset --out /content/yolov5/data/dataset --move y --test n\n",
        "else:\n",
        "  #split dataset with test set\n",
        "  !python /content/yolov5/data-utils/split_train_val_test.py --images /content/yolov5/data/dataset --labels /content/yolov5/data/dataset --out /content/yolov5/data/dataset --move y --test y"
      ],
      "execution_count": null,
      "outputs": []
    },
    {
      "cell_type": "markdown",
      "metadata": {
        "id": "loRMt1gq7npr"
      },
      "source": [
        "### Run Training"
      ]
    },
    {
      "cell_type": "code",
      "metadata": {
        "id": "Zc2Y4GtT7nps"
      },
      "source": [
        "if (weights_path is not None and len(weights_path) > 0):\n",
        "    !python train.py --img $image_size --batch $batch_size --epochs $epochs --data final-data.yaml --cfg $selected_model --weights $weights_path --nosave --cache \n",
        "  else:\n",
        "    !python train.py --img $image_size --batch $batch_size --epochs $epochs --data final-data.yaml --cfg $selected_model --weights '' --nosave --cache"
      ],
      "execution_count": null,
      "outputs": []
    },
    {
      "cell_type": "markdown",
      "metadata": {
        "id": "eYI9Jjzx7npt"
      },
      "source": [
        "### Commit runs/train folder updates to git"
      ]
    },
    {
      "cell_type": "code",
      "metadata": {
        "id": "QF02ocIl7npu"
      },
      "source": [
        "\n",
        "if (git_token is not None and len(git_token) > 0):\n",
        "    import os\n",
        "\n",
        "    # find the latest run\n",
        "    dirPath, dir_names, _ = next(os.walk('runs/train'))\n",
        "    dir_names.sort()\n",
        "    latest = os.path.join(dirPath, dir_names[-1]) # eg: 'runs/train/exp3'\n",
        "\n",
        "    !git lfs track runs/\n",
        "    !git add runs/train\n",
        "    !git commit -m \"Updated $latest data after a new training execution\"\n",
        "    !git push https://$git_token@github.com/lakshyads/bosch-ai-hackathon-2021-kanthabai.git\n",
        "else:\n",
        "    print(\"No valid Github access token found to commit or push changes\")"
      ],
      "execution_count": null,
      "outputs": []
    },
    {
      "cell_type": "markdown",
      "metadata": {
        "id": "ljNJxjC97npu"
      },
      "source": [
        "---\n",
        "# 4. RUNNING INFERENCES ON TRAINING DATA\n",
        "---"
      ]
    },
    {
      "cell_type": "markdown",
      "metadata": {
        "id": "dzAbVDpm7npv"
      },
      "source": [
        "### Initialize Tensorboard"
      ]
    },
    {
      "cell_type": "code",
      "metadata": {
        "id": "XizW35dn7npv"
      },
      "source": [
        "%load_ext tensorboard\n",
        "%tensorboard --logdir runs/train"
      ],
      "execution_count": null,
      "outputs": []
    },
    {
      "cell_type": "markdown",
      "metadata": {
        "id": "J_n4Sz2w7npw"
      },
      "source": [
        "### Plotting the training results from latest run"
      ]
    },
    {
      "cell_type": "code",
      "metadata": {
        "id": "wENQXCnJ7npw"
      },
      "source": [
        "from utils.plots import plot_results\n",
        "import os\n",
        "\n",
        "# find the latest run\n",
        "_, dir_names, _ = next(os.walk('runs/train'))\n",
        "dir_names.sort()\n",
        "\n",
        "latest = os.path.join(dirPath, dir_names[-1]) # eg: 'runs/train/exp3'\n",
        "\n",
        "plot_results(save_dir=f'{latest}')"
      ],
      "execution_count": null,
      "outputs": []
    },
    {
      "cell_type": "markdown",
      "metadata": {
        "id": "nDjFasip7npx"
      },
      "source": [
        "---\n",
        "# 5. TESTING\n",
        "---"
      ]
    },
    {
      "cell_type": "markdown",
      "metadata": {
        "id": "XDtq3Y1e7npx"
      },
      "source": [
        "### Update --weights with required weights path"
      ]
    },
    {
      "cell_type": "code",
      "metadata": {
        "id": "yM86gUgO7npy"
      },
      "source": [
        "use_weights = ''\n",
        "if (weights_for_testing_path == 'latest'):\n",
        "  from utils.plots import plot_results\n",
        "  import os\n",
        "  # find the latest run\n",
        "  _, dir_names, _ = next(os.walk('runs/train'))\n",
        "  dir_names.sort()\n",
        "  latest = os.path.join(dirPath, dir_names[-1]) # eg: 'runs/train/exp3'\n",
        "  _, _, latest_run_weights = next(os.walk('latest/weights'))\n",
        "  if ('best.pt' not in set(latest_run_weights)):\n",
        "      use_weights = f'{latest}/weights/last.pt'\n",
        "  else:\n",
        "        use_weights = f'{latest}/weights/best.pt'\n",
        "else:\n",
        "  use_weights = weights_path_for_testing_or_detecting\n",
        "\n",
        "###############################################################33\n",
        "!python test.py --weights $use_weights --data final-data.yaml --img $image_size\n"
      ],
      "execution_count": null,
      "outputs": []
    },
    {
      "cell_type": "markdown",
      "metadata": {
        "id": "sYpb7BYL7npy"
      },
      "source": [
        "### Commit runs/test folder updates to git"
      ]
    },
    {
      "cell_type": "code",
      "metadata": {
        "id": "KNmgaRok7npy"
      },
      "source": [
        "if (git_token is not None and len(git_token) > 0):\n",
        "    import os\n",
        "\n",
        "    # find the latest run\n",
        "    dirPath, dir_names, _ = next(os.walk('runs/train'))\n",
        "    dir_names.sort()\n",
        "    latest = os.path.join(dirPath, dir_names[-1]) # eg: 'runs/test/exp3'\n",
        "\n",
        "    !git lfs track runs/\n",
        "    !git add runs/train\n",
        "    !git commit -m \"Updated $latest data after a new testing execution\"\n",
        "    !git push https://$git_token@github.com/lakshyads/bosch-ai-hackathon-2021-kanthabai.git\n",
        "else:\n",
        "    print(\"No valid Github access token found to commit or push changes\")"
      ],
      "execution_count": null,
      "outputs": []
    }
  ]
}