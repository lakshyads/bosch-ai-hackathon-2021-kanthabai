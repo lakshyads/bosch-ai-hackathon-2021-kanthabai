{
 "metadata": {
  "language_info": {
   "codemirror_mode": {
    "name": "ipython",
    "version": 3
   },
   "file_extension": ".py",
   "mimetype": "text/x-python",
   "name": "python",
   "nbconvert_exporter": "python",
   "pygments_lexer": "ipython3",
   "version": 3
  },
  "orig_nbformat": 4
 },
 "nbformat": 4,
 "nbformat_minor": 2,
 "cells": [
  {
   "source": [
    "---\n",
    "---\n",
    "# BOSCH AI HACKATHON 2021\n",
    "---\n",
    "## Team - KanthabAI\n",
    "\n",
    "Members:\n",
    "  - Sanjana  \n",
    "  - Lakshya  \n",
    "  - Abeesh  \n",
    "  - Sachin  \n",
    "  - Shubham\n",
    "  \n",
    "~ Code, data and scripts maintained by Lakshya Dev at https://github.com/lakshyads/bosch-ai-hackathon-2021-kanthabai\n",
    "\n",
    "  \n",
    "---\n",
    "**Content:**  \n",
    "\n",
    "1. Initial Config   \n",
    "2. Prep the environment and data   \n",
    "3. ***Detecting new Images***   \n",
    "4. Training the Yolov5 model   \n",
    "5. Running inferences on training data   \n",
    "6. Test with test data   \n",
    "7. Retraining from last checkpoint   \n",
    "---\n",
    "---"
   ],
   "cell_type": "markdown",
   "metadata": {}
  },
  {
   "source": [
    "## Initial Configurations"
   ],
   "cell_type": "markdown",
   "metadata": {}
  },
  {
   "cell_type": "code",
   "execution_count": null,
   "metadata": {},
   "outputs": [],
   "source": [
    "available_models = {\n",
    "    1: \"yolov5s.yaml\",\n",
    "    2: \"yolov5m.yaml\",\n",
    "    3: \"yolov5l.yaml\",\n",
    "    4: \"yolov5x.yaml\",\n",
    "    5: \"yolov5s6.yaml\",\n",
    "    6: \"yolov5m6.yaml\",\n",
    "    7: \"yolov5l6.yaml\",\n",
    "    8: \"yolov5x6.yaml\"\n",
    "}\n",
    "\n",
    "selected_model = available_models[7] # Edit this to change the selected model variant of Yolov5\n",
    "weights_path = 'yolov5l6.pt'\n",
    "epochs = 350\n",
    "batch_size = 30\n",
    "image_size = 420\n",
    "# Github pull repo and branch\n",
    "git_branch = 'yolo-l6'\n",
    "git_token = input('Enter github access token to commit/push your training/test/validation runs back to the selected branch. Leave blank to omit : ')\n",
    "\n",
    "# Detecting on new images (set archive path if archived folder else set images path)\n",
    "detect_images_archive_path = ''\n",
    "detect_images_path = ''\n",
    "\n",
    "# Testing Or Detecting on images - set to 'latest' to use last trained weights or set custom path\n",
    "weights_path_for_testing_or_detecting = 'latest'"
   ]
  },
  {
   "source": [
    "---\n",
    "# 1. PREP THE ENVIRONMENT AND DATA\n",
    "---"
   ],
   "cell_type": "markdown",
   "metadata": {}
  },
  {
   "source": [
    "### Setup Git & LFS for downloading repo & dataset & ready the model/env"
   ],
   "cell_type": "markdown",
   "metadata": {}
  },
  {
   "cell_type": "code",
   "execution_count": null,
   "metadata": {},
   "outputs": [],
   "source": [
    "# Setup\n",
    "!curl -s https://packagecloud.io/install/repositories/github/git-lfs/script.deb.sh | sudo bash\n",
    "!sudo apt-get install git-lfs\n",
    "!git config --global user.email \"lakshyadev@live.com\"\n",
    "!git config --global user.name \"Lakshya from google colab\"\n",
    "\n",
    "# Clone repo\n",
    "!git clone https://github.com/lakshyads/bosch-ai-hackathon-2021-kanthabai.git yolov5\n",
    "%cd /content/yolov5/\n",
    "!git pull\n",
    "!git checkout $git_branch\n",
    "\n",
    "# Install dependencies and give max permissions\n",
    "!pip install -r requirements.txt\n",
    "%cd /content/yolov5/\n",
    "!chmod -R 755 /content/yolov5\n",
    "# Download pretrained weights\n",
    "!/content/yolov5/weights/download_weights.sh"
   ]
  },
  {
   "source": [
    "---\n",
    "# 2. DETECTING ON NEW IMAGES\n",
    "---"
   ],
   "cell_type": "markdown",
   "metadata": {}
  },
  {
   "source": [
    "### Extract new images from zipped upload"
   ],
   "cell_type": "markdown",
   "metadata": {}
  },
  {
   "cell_type": "code",
   "execution_count": null,
   "metadata": {},
   "outputs": [],
   "source": [
    "%cd ..\n",
    "!unzip -q $detect_images_archive_path ./detection_images\n",
    "%cd yolov5"
   ]
  },
  {
   "source": [
    "### Runs the detect script.\n",
    "### Update --weights with required weights path"
   ],
   "cell_type": "markdown",
   "metadata": {}
  },
  {
   "cell_type": "code",
   "execution_count": null,
   "metadata": {},
   "outputs": [],
   "source": [
    "use_weights = ''\n",
    "if (weights_for_testing_path == 'latest'):\n",
    "  from utils.plots import plot_results\n",
    "  import os\n",
    "  # find the latest run\n",
    "  _, dir_names, _ = next(os.walk('runs/train'))\n",
    "  dir_names.sort()\n",
    "  latest = os.path.join(dirPath, dir_names[-1]) # eg: 'runs/train/exp3'\n",
    "  _, _, latest_run_weights = next(os.walk(f'{latest}/weights'))\n",
    "  if ('best.pt' not in set(latest_run_weights)):\n",
    "      use_weights = f'{latest}/weights/last.pt'\n",
    "  else:\n",
    "        use_weights = f'{latest}/weights/best.pt'\n",
    "else:\n",
    "  use_weights = weights_path_for_testing_or_detecting\n",
    "\n",
    "##########################################################\n",
    "!python detect.py --source $detect_images_path --weights $use_weights --img $image_size --save-txt --save-conf\n"
   ]
  },
  {
   "source": [
    "### Commit runs/detect folder updates to git"
   ],
   "cell_type": "markdown",
   "metadata": {}
  },
  {
   "cell_type": "code",
   "execution_count": null,
   "metadata": {},
   "outputs": [],
   "source": [
    "\n",
    "if (git_token is not None and len(git_token) > 0):\n",
    "    import os\n",
    "\n",
    "    # find the latest run\n",
    "    dirPath, dir_names, _ = next(os.walk('runs/detect'))\n",
    "    dir_names.sort()\n",
    "    latest = os.path.join(dirPath, dir_names[-1]) # eg: 'runs/detect/exp'\n",
    "\n",
    "    !git lfs track runs/*/*/*/*\n",
    "    !git add runs/*\n",
    "    !git commit -m \"Updated $latest data after a new detection execution\"\n",
    "    !git push https://$git_token@github.com/lakshyads/bosch-ai-hackathon-2021-kanthabai.git\n",
    "else:\n",
    "    print(\"No valid Github access token found to commit or push changes\")"
   ]
  },
  {
   "source": [
    "---\n",
    "# 3. TRAINING THE YOLO-V5 MODEL\n",
    "---"
   ],
   "cell_type": "markdown",
   "metadata": {}
  },
  {
   "source": [
    "### Ready the data set included in the above repo \n",
    "#### (Extract and create train & val sets. Set 'make_test_set' to True below to create test set also.)"
   ],
   "cell_type": "markdown",
   "metadata": {}
  },
  {
   "cell_type": "code",
   "execution_count": null,
   "metadata": {},
   "outputs": [],
   "source": [
    "\n",
    "# Set to True to create test set\n",
    "make_test_set = False\n",
    "\n",
    "# =================================================\n",
    "%cd /content/yolov5/\n",
    "# Unzip dataset\n",
    "!unzip -q ./data/final-data-full.zip -d /content/yolov5/data/dataset/\n",
    "# =================================================\n",
    "\n",
    "if(make_test_set is False):\n",
    "  #split dataset without test set\n",
    "  !python /content/yolov5/data-utils/split_train_val_test.py --images /content/yolov5/data/dataset --labels /content/yolov5/data/dataset --out /content/yolov5/data/dataset --move y --test n\n",
    "else:\n",
    "  #split dataset with test set\n",
    "  !python /content/yolov5/data-utils/split_train_val_test.py --images /content/yolov5/data/dataset --labels /content/yolov5/data/dataset --out /content/yolov5/data/dataset --move y --test y"
   ]
  },
  {
   "source": [
    "### Run Training"
   ],
   "cell_type": "markdown",
   "metadata": {}
  },
  {
   "cell_type": "code",
   "execution_count": null,
   "metadata": {},
   "outputs": [],
   "source": [
    "if (weights_path is not None and len(weights_path) > 0):\n",
    "    !python train.py --img $image_size --batch $batch_size --epochs $epochs --data final-data.yaml --cfg $selected_model --weights $weights_path --nosave --cache \n",
    "  else:\n",
    "    !python train.py --img $image_size --batch $batch_size --epochs $epochs --data final-data.yaml --cfg $selected_model --weights '' --nosave --cache"
   ]
  },
  {
   "source": [
    "### Commit runs/train folder updates to git"
   ],
   "cell_type": "markdown",
   "metadata": {}
  },
  {
   "cell_type": "code",
   "execution_count": null,
   "metadata": {},
   "outputs": [],
   "source": [
    "\n",
    "if (git_token is not None and len(git_token) > 0):\n",
    "    import os\n",
    "\n",
    "    # find the latest run\n",
    "    dirPath, dir_names, _ = next(os.walk('runs/train'))\n",
    "    dir_names.sort()\n",
    "    latest = os.path.join(dirPath, dir_names[-1]) # eg: 'runs/train/exp3'\n",
    "\n",
    "    !git lfs track runs/*/*/*/*\n",
    "    !git add runs/*\n",
    "    !git commit -m \"Updated $latest data after a new training execution\"\n",
    "    !git push https://$git_token@github.com/lakshyads/bosch-ai-hackathon-2021-kanthabai.git\n",
    "else:\n",
    "    print(\"No valid Github access token found to commit or push changes\")"
   ]
  },
  {
   "source": [
    "---\n",
    "# 4. RUNNING INFERENCES ON TRAINING DATA\n",
    "---"
   ],
   "cell_type": "markdown",
   "metadata": {}
  },
  {
   "source": [
    "### Initialize Tensorboard"
   ],
   "cell_type": "markdown",
   "metadata": {}
  },
  {
   "cell_type": "code",
   "execution_count": null,
   "metadata": {},
   "outputs": [],
   "source": [
    "%load_ext tensorboard\n",
    "%tensorboard --logdir runs/train"
   ]
  },
  {
   "source": [
    "### Plotting the training results from latest run"
   ],
   "cell_type": "markdown",
   "metadata": {}
  },
  {
   "cell_type": "code",
   "execution_count": null,
   "metadata": {},
   "outputs": [],
   "source": [
    "from utils.plots import plot_results\n",
    "import os\n",
    "\n",
    "# find the latest run\n",
    "_, dir_names, _ = next(os.walk('runs/train'))\n",
    "dir_names.sort()\n",
    "\n",
    "latest = os.path.join(dirPath, dir_names[-1]) # eg: 'runs/train/exp3'\n",
    "\n",
    "plot_results(save_dir=f'{latest}')"
   ]
  },
  {
   "source": [
    "---\n",
    "# 5. TESTING\n",
    "---"
   ],
   "cell_type": "markdown",
   "metadata": {}
  },
  {
   "source": [
    "### Update --weights with required weights path"
   ],
   "cell_type": "markdown",
   "metadata": {}
  },
  {
   "cell_type": "code",
   "execution_count": null,
   "metadata": {},
   "outputs": [],
   "source": [
    "use_weights = ''\n",
    "if (weights_for_testing_path == 'latest'):\n",
    "  from utils.plots import plot_results\n",
    "  import os\n",
    "  # find the latest run\n",
    "  _, dir_names, _ = next(os.walk('runs/train'))\n",
    "  dir_names.sort()\n",
    "  latest = os.path.join(dirPath, dir_names[-1]) # eg: 'runs/train/exp3'\n",
    "  _, _, latest_run_weights = next(os.walk(f'{latest}/weights'))\n",
    "  if ('best.pt' not in set(latest_run_weights)):\n",
    "      use_weights = f'{latest}/weights/last.pt'\n",
    "  else:\n",
    "        use_weights = f'{latest}/weights/best.pt'\n",
    "else:\n",
    "  use_weights = weights_path_for_testing_or_detecting\n",
    "\n",
    "###############################################################33\n",
    "!python test.py --weights $use_weights --data final-data.yaml --img $image_size\n"
   ]
  },
  {
   "source": [
    "### Commit runs/test folder updates to git"
   ],
   "cell_type": "markdown",
   "metadata": {}
  },
  {
   "cell_type": "code",
   "execution_count": null,
   "metadata": {},
   "outputs": [],
   "source": [
    "if (git_token is not None and len(git_token) > 0):\n",
    "    import os\n",
    "\n",
    "    # find the latest run\n",
    "    dirPath, dir_names, _ = next(os.walk('runs/test'))\n",
    "    dir_names.sort()\n",
    "    latest = os.path.join(dirPath, dir_names[-1]) # eg: 'runs/test/exp3'\n",
    "\n",
    "    !git lfs track runs/*/*/*/*\n",
    "    !git add runs/*\n",
    "    !git commit -m \"Updated $latest data after a new testing execution\"\n",
    "    !git push https://$git_token@github.com/lakshyads/bosch-ai-hackathon-2021-kanthabai.git\n",
    "else:\n",
    "    print(\"No valid Github access token found to commit or push changes\")"
   ]
  }
 ]
}